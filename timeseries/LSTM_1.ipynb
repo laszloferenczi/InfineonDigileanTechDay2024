{
 "cells": [
  {
   "cell_type": "code",
   "execution_count": 1,
   "id": "a31cf440",
   "metadata": {},
   "outputs": [],
   "source": [
    "#source https://machinelearningmastery.com/time-series-prediction-lstm-recurrent-neural-networks-python-keras/\n",
    "import numpy\n",
    "import pandas\n",
    "import matplotlib.pyplot as plt\n",
    "import math\n",
    "import keras\n",
    "import tensorflow as tf\n",
    "import sklearn\n",
    "from keras.models import Sequential\n",
    "from keras.layers import Dense\n",
    "from keras.layers import LSTM\n",
    "from sklearn.preprocessing import MinMaxScaler\n",
    "from sklearn.metrics import mean_squared_error"
   ]
  },
  {
   "cell_type": "code",
   "execution_count": 2,
   "id": "5b19f8a5",
   "metadata": {},
   "outputs": [],
   "source": [
    "numpy.random.seed(7)\n",
    "dataframe = pandas.read_csv('airline-passengers.txt', usecols=[1], engine='python')\n",
    "dataset = dataframe.values\n",
    "dataset = dataset.astype('float32')"
   ]
  },
  {
   "cell_type": "code",
   "execution_count": 3,
   "id": "ea0a3181-c255-4a0c-88b4-d6de24e632c3",
   "metadata": {},
   "outputs": [],
   "source": [
    "scaler = MinMaxScaler(feature_range=(0,1))\n",
    "dataset = scaler.fit_transform(dataset)"
   ]
  },
  {
   "cell_type": "code",
   "execution_count": 4,
   "id": "00a314bb-398c-40c5-aa87-8007a9d2f8d6",
   "metadata": {},
   "outputs": [
    {
     "name": "stdout",
     "output_type": "stream",
     "text": [
      "96 48\n"
     ]
    }
   ],
   "source": [
    "train_size = int(len(dataset)*0.67)\n",
    "test_size = len(dataset) - train_size\n",
    "train, test = dataset[0:train_size,:], dataset[train_size:len(dataset),:]\n",
    "print(len(train), len(test))"
   ]
  },
  {
   "cell_type": "code",
   "execution_count": 5,
   "id": "7fce8eb4-9510-4919-823d-33612b8d1676",
   "metadata": {},
   "outputs": [],
   "source": [
    "# convert an array of values into a dataset matrix\n",
    "def create_dataset(dataset, look_back=1):\n",
    "    dataX, dataY = [], []\n",
    "    for i in range(len(dataset)-look_back-1):\n",
    "        a = dataset[i:(i+look_back), 0]\n",
    "        dataX.append(a)\n",
    "        dataY.append(dataset[i + look_back, 0])\n",
    "    return numpy.array(dataX), numpy.array(dataY)"
   ]
  },
  {
   "cell_type": "code",
   "execution_count": 6,
   "id": "4c4e6b8b",
   "metadata": {},
   "outputs": [],
   "source": [
    "# reshape into X=t and Y=t+1\n",
    "look_back = 3\n",
    "trainX, trainY = create_dataset(train, look_back)\n",
    "testX, testY = create_dataset(test, look_back)"
   ]
  },
  {
   "cell_type": "code",
   "execution_count": 7,
   "id": "b45b92b0-4702-41be-b6af-9fd875e1db4a",
   "metadata": {},
   "outputs": [],
   "source": [
    "# reshape input to be [samples, time steps, features]\n",
    "trainX = numpy.reshape(trainX, (trainX.shape[0], 1, trainX.shape[1]))\n",
    "testX = numpy.reshape(testX, (testX.shape[0], 1, testX.shape[1]))"
   ]
  },
  {
   "cell_type": "code",
   "execution_count": 8,
   "id": "09c07963-fd91-4180-8337-5ff20d9cf576",
   "metadata": {},
   "outputs": [
    {
     "name": "stdout",
     "output_type": "stream",
     "text": [
      "Epoch 1/100\n",
      "92/92 - 2s - loss: 0.0484 - 2s/epoch - 23ms/step\n",
      "Epoch 2/100\n",
      "92/92 - 0s - loss: 0.0211 - 200ms/epoch - 2ms/step\n",
      "Epoch 3/100\n",
      "92/92 - 0s - loss: 0.0138 - 191ms/epoch - 2ms/step\n",
      "Epoch 4/100\n",
      "92/92 - 0s - loss: 0.0118 - 175ms/epoch - 2ms/step\n",
      "Epoch 5/100\n",
      "92/92 - 0s - loss: 0.0104 - 157ms/epoch - 2ms/step\n",
      "Epoch 6/100\n",
      "92/92 - 0s - loss: 0.0093 - 158ms/epoch - 2ms/step\n",
      "Epoch 7/100\n",
      "92/92 - 0s - loss: 0.0082 - 158ms/epoch - 2ms/step\n",
      "Epoch 8/100\n",
      "92/92 - 0s - loss: 0.0071 - 156ms/epoch - 2ms/step\n",
      "Epoch 9/100\n",
      "92/92 - 0s - loss: 0.0063 - 158ms/epoch - 2ms/step\n",
      "Epoch 10/100\n",
      "92/92 - 0s - loss: 0.0056 - 159ms/epoch - 2ms/step\n",
      "Epoch 11/100\n",
      "92/92 - 0s - loss: 0.0050 - 158ms/epoch - 2ms/step\n",
      "Epoch 12/100\n",
      "92/92 - 0s - loss: 0.0046 - 160ms/epoch - 2ms/step\n",
      "Epoch 13/100\n",
      "92/92 - 0s - loss: 0.0043 - 160ms/epoch - 2ms/step\n",
      "Epoch 14/100\n",
      "92/92 - 0s - loss: 0.0041 - 160ms/epoch - 2ms/step\n",
      "Epoch 15/100\n",
      "92/92 - 0s - loss: 0.0039 - 160ms/epoch - 2ms/step\n",
      "Epoch 16/100\n",
      "92/92 - 0s - loss: 0.0038 - 157ms/epoch - 2ms/step\n",
      "Epoch 17/100\n",
      "92/92 - 0s - loss: 0.0037 - 159ms/epoch - 2ms/step\n",
      "Epoch 18/100\n",
      "92/92 - 0s - loss: 0.0037 - 160ms/epoch - 2ms/step\n",
      "Epoch 19/100\n",
      "92/92 - 0s - loss: 0.0035 - 158ms/epoch - 2ms/step\n",
      "Epoch 20/100\n",
      "92/92 - 0s - loss: 0.0036 - 156ms/epoch - 2ms/step\n",
      "Epoch 21/100\n",
      "92/92 - 0s - loss: 0.0035 - 157ms/epoch - 2ms/step\n",
      "Epoch 22/100\n",
      "92/92 - 0s - loss: 0.0035 - 155ms/epoch - 2ms/step\n",
      "Epoch 23/100\n",
      "92/92 - 0s - loss: 0.0034 - 157ms/epoch - 2ms/step\n",
      "Epoch 24/100\n",
      "92/92 - 0s - loss: 0.0035 - 158ms/epoch - 2ms/step\n",
      "Epoch 25/100\n",
      "92/92 - 0s - loss: 0.0033 - 157ms/epoch - 2ms/step\n",
      "Epoch 26/100\n",
      "92/92 - 0s - loss: 0.0034 - 160ms/epoch - 2ms/step\n",
      "Epoch 27/100\n",
      "92/92 - 0s - loss: 0.0033 - 159ms/epoch - 2ms/step\n",
      "Epoch 28/100\n",
      "92/92 - 0s - loss: 0.0033 - 156ms/epoch - 2ms/step\n",
      "Epoch 29/100\n",
      "92/92 - 0s - loss: 0.0033 - 157ms/epoch - 2ms/step\n",
      "Epoch 30/100\n",
      "92/92 - 0s - loss: 0.0032 - 156ms/epoch - 2ms/step\n",
      "Epoch 31/100\n",
      "92/92 - 0s - loss: 0.0032 - 157ms/epoch - 2ms/step\n",
      "Epoch 32/100\n",
      "92/92 - 0s - loss: 0.0032 - 156ms/epoch - 2ms/step\n",
      "Epoch 33/100\n",
      "92/92 - 0s - loss: 0.0031 - 156ms/epoch - 2ms/step\n",
      "Epoch 34/100\n",
      "92/92 - 0s - loss: 0.0031 - 157ms/epoch - 2ms/step\n",
      "Epoch 35/100\n",
      "92/92 - 0s - loss: 0.0031 - 154ms/epoch - 2ms/step\n",
      "Epoch 36/100\n",
      "92/92 - 0s - loss: 0.0031 - 154ms/epoch - 2ms/step\n",
      "Epoch 37/100\n",
      "92/92 - 0s - loss: 0.0030 - 156ms/epoch - 2ms/step\n",
      "Epoch 38/100\n",
      "92/92 - 0s - loss: 0.0030 - 154ms/epoch - 2ms/step\n",
      "Epoch 39/100\n",
      "92/92 - 0s - loss: 0.0029 - 153ms/epoch - 2ms/step\n",
      "Epoch 40/100\n",
      "92/92 - 0s - loss: 0.0029 - 157ms/epoch - 2ms/step\n",
      "Epoch 41/100\n",
      "92/92 - 0s - loss: 0.0029 - 155ms/epoch - 2ms/step\n",
      "Epoch 42/100\n",
      "92/92 - 0s - loss: 0.0029 - 156ms/epoch - 2ms/step\n",
      "Epoch 43/100\n",
      "92/92 - 0s - loss: 0.0030 - 156ms/epoch - 2ms/step\n",
      "Epoch 44/100\n",
      "92/92 - 0s - loss: 0.0028 - 156ms/epoch - 2ms/step\n",
      "Epoch 45/100\n",
      "92/92 - 0s - loss: 0.0029 - 155ms/epoch - 2ms/step\n",
      "Epoch 46/100\n",
      "92/92 - 0s - loss: 0.0027 - 156ms/epoch - 2ms/step\n",
      "Epoch 47/100\n",
      "92/92 - 0s - loss: 0.0028 - 159ms/epoch - 2ms/step\n",
      "Epoch 48/100\n",
      "92/92 - 0s - loss: 0.0028 - 156ms/epoch - 2ms/step\n",
      "Epoch 49/100\n",
      "92/92 - 0s - loss: 0.0027 - 157ms/epoch - 2ms/step\n",
      "Epoch 50/100\n",
      "92/92 - 0s - loss: 0.0027 - 155ms/epoch - 2ms/step\n",
      "Epoch 51/100\n",
      "92/92 - 0s - loss: 0.0027 - 156ms/epoch - 2ms/step\n",
      "Epoch 52/100\n",
      "92/92 - 0s - loss: 0.0026 - 157ms/epoch - 2ms/step\n",
      "Epoch 53/100\n",
      "92/92 - 0s - loss: 0.0026 - 159ms/epoch - 2ms/step\n",
      "Epoch 54/100\n",
      "92/92 - 0s - loss: 0.0026 - 158ms/epoch - 2ms/step\n",
      "Epoch 55/100\n",
      "92/92 - 0s - loss: 0.0028 - 158ms/epoch - 2ms/step\n",
      "Epoch 56/100\n",
      "92/92 - 0s - loss: 0.0026 - 158ms/epoch - 2ms/step\n",
      "Epoch 57/100\n",
      "92/92 - 0s - loss: 0.0026 - 155ms/epoch - 2ms/step\n",
      "Epoch 58/100\n",
      "92/92 - 0s - loss: 0.0026 - 158ms/epoch - 2ms/step\n",
      "Epoch 59/100\n",
      "92/92 - 0s - loss: 0.0025 - 157ms/epoch - 2ms/step\n",
      "Epoch 60/100\n",
      "92/92 - 0s - loss: 0.0025 - 155ms/epoch - 2ms/step\n",
      "Epoch 61/100\n",
      "92/92 - 0s - loss: 0.0024 - 158ms/epoch - 2ms/step\n",
      "Epoch 62/100\n",
      "92/92 - 0s - loss: 0.0025 - 155ms/epoch - 2ms/step\n",
      "Epoch 63/100\n",
      "92/92 - 0s - loss: 0.0025 - 158ms/epoch - 2ms/step\n",
      "Epoch 64/100\n",
      "92/92 - 0s - loss: 0.0024 - 157ms/epoch - 2ms/step\n",
      "Epoch 65/100\n",
      "92/92 - 0s - loss: 0.0024 - 156ms/epoch - 2ms/step\n",
      "Epoch 66/100\n",
      "92/92 - 0s - loss: 0.0024 - 154ms/epoch - 2ms/step\n",
      "Epoch 67/100\n",
      "92/92 - 0s - loss: 0.0024 - 154ms/epoch - 2ms/step\n",
      "Epoch 68/100\n",
      "92/92 - 0s - loss: 0.0023 - 155ms/epoch - 2ms/step\n",
      "Epoch 69/100\n",
      "92/92 - 0s - loss: 0.0023 - 154ms/epoch - 2ms/step\n",
      "Epoch 70/100\n",
      "92/92 - 0s - loss: 0.0024 - 156ms/epoch - 2ms/step\n",
      "Epoch 71/100\n",
      "92/92 - 0s - loss: 0.0022 - 154ms/epoch - 2ms/step\n",
      "Epoch 72/100\n",
      "92/92 - 0s - loss: 0.0022 - 155ms/epoch - 2ms/step\n",
      "Epoch 73/100\n",
      "92/92 - 0s - loss: 0.0022 - 153ms/epoch - 2ms/step\n",
      "Epoch 74/100\n",
      "92/92 - 0s - loss: 0.0022 - 155ms/epoch - 2ms/step\n",
      "Epoch 75/100\n",
      "92/92 - 0s - loss: 0.0021 - 156ms/epoch - 2ms/step\n",
      "Epoch 76/100\n",
      "92/92 - 0s - loss: 0.0022 - 157ms/epoch - 2ms/step\n",
      "Epoch 77/100\n",
      "92/92 - 0s - loss: 0.0021 - 156ms/epoch - 2ms/step\n",
      "Epoch 78/100\n",
      "92/92 - 0s - loss: 0.0021 - 156ms/epoch - 2ms/step\n",
      "Epoch 79/100\n",
      "92/92 - 0s - loss: 0.0021 - 157ms/epoch - 2ms/step\n",
      "Epoch 80/100\n",
      "92/92 - 0s - loss: 0.0021 - 157ms/epoch - 2ms/step\n",
      "Epoch 81/100\n",
      "92/92 - 0s - loss: 0.0021 - 157ms/epoch - 2ms/step\n",
      "Epoch 82/100\n",
      "92/92 - 0s - loss: 0.0020 - 155ms/epoch - 2ms/step\n",
      "Epoch 83/100\n",
      "92/92 - 0s - loss: 0.0021 - 156ms/epoch - 2ms/step\n",
      "Epoch 84/100\n",
      "92/92 - 0s - loss: 0.0020 - 155ms/epoch - 2ms/step\n",
      "Epoch 85/100\n",
      "92/92 - 0s - loss: 0.0020 - 157ms/epoch - 2ms/step\n",
      "Epoch 86/100\n",
      "92/92 - 0s - loss: 0.0020 - 158ms/epoch - 2ms/step\n",
      "Epoch 87/100\n",
      "92/92 - 0s - loss: 0.0020 - 155ms/epoch - 2ms/step\n",
      "Epoch 88/100\n",
      "92/92 - 0s - loss: 0.0020 - 158ms/epoch - 2ms/step\n",
      "Epoch 89/100\n",
      "92/92 - 0s - loss: 0.0020 - 157ms/epoch - 2ms/step\n",
      "Epoch 90/100\n",
      "92/92 - 0s - loss: 0.0020 - 157ms/epoch - 2ms/step\n",
      "Epoch 91/100\n",
      "92/92 - 0s - loss: 0.0020 - 158ms/epoch - 2ms/step\n",
      "Epoch 92/100\n",
      "92/92 - 0s - loss: 0.0020 - 158ms/epoch - 2ms/step\n",
      "Epoch 93/100\n",
      "92/92 - 0s - loss: 0.0019 - 157ms/epoch - 2ms/step\n",
      "Epoch 94/100\n",
      "92/92 - 0s - loss: 0.0020 - 156ms/epoch - 2ms/step\n",
      "Epoch 95/100\n",
      "92/92 - 0s - loss: 0.0020 - 156ms/epoch - 2ms/step\n",
      "Epoch 96/100\n",
      "92/92 - 0s - loss: 0.0018 - 156ms/epoch - 2ms/step\n",
      "Epoch 97/100\n",
      "92/92 - 0s - loss: 0.0021 - 156ms/epoch - 2ms/step\n",
      "Epoch 98/100\n",
      "92/92 - 0s - loss: 0.0019 - 157ms/epoch - 2ms/step\n",
      "Epoch 99/100\n",
      "92/92 - 0s - loss: 0.0019 - 157ms/epoch - 2ms/step\n",
      "Epoch 100/100\n",
      "92/92 - 0s - loss: 0.0019 - 157ms/epoch - 2ms/step\n"
     ]
    },
    {
     "data": {
      "text/plain": [
       "<keras.callbacks.History at 0x22afe25b730>"
      ]
     },
     "execution_count": 8,
     "metadata": {},
     "output_type": "execute_result"
    }
   ],
   "source": [
    "# create and fit the LSTM network\n",
    "model = Sequential()\n",
    "model.add(LSTM(4, input_shape=(1, look_back)))\n",
    "model.add(Dense(1))\n",
    "model.compile(loss='mean_squared_error', optimizer='adam')\n",
    "model.fit(trainX, trainY, epochs=100, batch_size=1, verbose=2)"
   ]
  },
  {
   "cell_type": "code",
   "execution_count": 9,
   "id": "c54b871f-8f10-4bf3-b8ec-9d374d696508",
   "metadata": {},
   "outputs": [
    {
     "name": "stdout",
     "output_type": "stream",
     "text": [
      "Train Score: 22.58 RMSE\n",
      "Test Score: 50.28 RMSE\n"
     ]
    }
   ],
   "source": [
    "# make predictions\n",
    "trainPredict = model.predict(trainX)\n",
    "testPredict = model.predict(testX)\n",
    "# invert predictions\n",
    "trainPredict = scaler.inverse_transform(trainPredict)\n",
    "trainY = scaler.inverse_transform([trainY])\n",
    "testPredict = scaler.inverse_transform(testPredict)\n",
    "testY = scaler.inverse_transform([testY])\n",
    "# calculate root mean squared error\n",
    "trainScore = math.sqrt(mean_squared_error(trainY[0], trainPredict[:,0]))\n",
    "print('Train Score: %.2f RMSE' % (trainScore))\n",
    "testScore = math.sqrt(mean_squared_error(testY[0], testPredict[:,0]))\n",
    "print('Test Score: %.2f RMSE' % (testScore))"
   ]
  },
  {
   "cell_type": "code",
   "execution_count": 10,
   "id": "e50928f5-b417-438f-a23b-edaa6317aa6a",
   "metadata": {},
   "outputs": [
    {
     "data": {
      "image/png": "[encoded data removed]",
      "text/plain": [
       "<Figure size 432x288 with 1 Axes>"
      ]
     },
     "metadata": {
      "needs_background": "light"
     },
     "output_type": "display_data"
    }
   ],
   "source": [
    "# shift train predictions for plotting\n",
    "trainPredictPlot = numpy.empty_like(dataset)\n",
    "trainPredictPlot[:, :] = numpy.nan\n",
    "trainPredictPlot[look_back:len(trainPredict)+look_back, :] = trainPredict\n",
    "# shift test predictions for plotting\n",
    "testPredictPlot = numpy.empty_like(dataset)\n",
    "testPredictPlot[:, :] = numpy.nan\n",
    "testPredictPlot[len(trainPredict)+(look_back*2)+1:len(dataset)-1, :] = testPredict\n",
    "# plot baseline and predictions\n",
    "plt.plot(scaler.inverse_transform(dataset))\n",
    "plt.plot(trainPredictPlot)\n",
    "plt.plot(testPredictPlot)\n",
    "plt.show()"
   ]
  },
  {
   "cell_type": "code",
   "execution_count": null,
   "id": "d5ec68e2-8d8a-4843-85ba-39fbb513243d",
   "metadata": {},
   "outputs": [],
   "source": []
  }
 ],
 "metadata": {
  "kernelspec": {
   "display_name": "Python 3 (ipykernel)",
   "language": "python",
   "name": "python3"
  },
  "language_info": {
   "codemirror_mode": {
    "name": "ipython",
    "version": 3
   },
   "file_extension": ".py",
   "mimetype": "text/x-python",
   "name": "python",
   "nbconvert_exporter": "python",
   "pygments_lexer": "ipython3",
   "version": "3.9.9"
  }
 },
 "nbformat": 4,
 "nbformat_minor": 5
}
