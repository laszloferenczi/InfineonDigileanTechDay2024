{
  "cells": [
    {
      "cell_type": "markdown",
      "metadata": {
        "id": "view-in-github",
        "colab_type": "text"
      },
      "source": [
        "<a href=\"https://colab.research.google.com/github/laszloferenczi/InfineonDigileanTechDay2024/blob/main/timeseries/LSTM_1.ipynb\" target=\"_parent\"><img src=\"https://colab.research.google.com/assets/colab-badge.svg\" alt=\"Open In Colab\"/></a>"
      ]
    },
    {
      "cell_type": "code",
      "execution_count": 12,
      "id": "a31cf440",
      "metadata": {
        "id": "a31cf440"
      },
      "outputs": [],
      "source": [
        "import numpy\n",
        "import pandas\n",
        "import matplotlib.pyplot as plt\n",
        "import math\n",
        "import keras\n",
        "import tensorflow as tf\n",
        "import sklearn\n",
        "from keras.models import Sequential\n",
        "from keras.layers import Dense\n",
        "from keras.layers import LSTM\n",
        "from sklearn.preprocessing import MinMaxScaler\n",
        "from sklearn.metrics import mean_squared_error"
      ]
    },
    {
      "cell_type": "code",
      "execution_count": 40,
      "id": "7fce8eb4-9510-4919-823d-33612b8d1676",
      "metadata": {
        "id": "7fce8eb4-9510-4919-823d-33612b8d1676"
      },
      "outputs": [],
      "source": [
        "# convert an array of values into a dataset matrix\n",
        "def create_dataset(dataset, look_back=1):\n",
        "    dataX, dataY = [], []\n",
        "    for i in range(len(dataset)-look_back-1):\n",
        "        a = dataset[i:(i+look_back), 0]\n",
        "        dataX.append(a)\n",
        "        dataY.append(dataset[i + look_back, 0])\n",
        "    return numpy.array(dataX), numpy.array(dataY)"
      ]
    },
    {
      "cell_type": "code",
      "execution_count": 41,
      "id": "5b19f8a5",
      "metadata": {
        "id": "5b19f8a5"
      },
      "outputs": [],
      "source": [
        "# fix random seed for reproducibility\n",
        "numpy.random.seed(7)\n",
        "# load the dataset\n",
        "df = pandas.read_csv('airline-passengers.txt', usecols=[1], engine='python')\n",
        "dataset = df.values\n",
        "dataset = dataset.astype('float32')\n",
        "# print(dataset)"
      ]
    },
    {
      "cell_type": "code",
      "execution_count": 42,
      "id": "ea0a3181-c255-4a0c-88b4-d6de24e632c3",
      "metadata": {
        "id": "ea0a3181-c255-4a0c-88b4-d6de24e632c3"
      },
      "outputs": [],
      "source": [
        "# normalize the dataset\n",
        "scaler = MinMaxScaler(feature_range=(0,1))\n",
        "dataset = scaler.fit_transform(dataset)\n",
        "# print(dataset)"
      ]
    },
    {
      "cell_type": "code",
      "execution_count": 43,
      "id": "00a314bb-398c-40c5-aa87-8007a9d2f8d6",
      "metadata": {
        "colab": {
          "base_uri": "https://localhost:8080/"
        },
        "id": "00a314bb-398c-40c5-aa87-8007a9d2f8d6",
        "outputId": "3591e2c5-2004-421f-a092-3303f5d04f48"
      },
      "outputs": [
        {
          "output_type": "stream",
          "name": "stdout",
          "text": [
            "96 48\n"
          ]
        }
      ],
      "source": [
        "# split into train and test sets\n",
        "train_size = int(len(dataset)*0.67)\n",
        "test_size = len(dataset) - train_size\n",
        "train, test = dataset[0:train_size,:], dataset[train_size:len(dataset),:]\n",
        "print(len(train), len(test))"
      ]
    },
    {
      "cell_type": "code",
      "execution_count": 54,
      "id": "4c4e6b8b",
      "metadata": {
        "id": "4c4e6b8b"
      },
      "outputs": [],
      "source": [
        "# reshape into X=t and Y=t+3\n",
        "look_back = 20\n",
        "trainX, trainY = create_dataset(train, look_back)\n",
        "testX, testY = create_dataset(test, look_back)\n",
        "# print(trainX)"
      ]
    },
    {
      "cell_type": "code",
      "execution_count": 55,
      "id": "b45b92b0-4702-41be-b6af-9fd875e1db4a",
      "metadata": {
        "id": "b45b92b0-4702-41be-b6af-9fd875e1db4a"
      },
      "outputs": [],
      "source": [
        "# reshape input to be [samples, time steps, features]\n",
        "trainX = numpy.reshape(trainX, (trainX.shape[0], 1, trainX.shape[1]))\n",
        "testX = numpy.reshape(testX, (testX.shape[0], 1, testX.shape[1]))\n",
        "# print(trainX)"
      ]
    },
    {
      "cell_type": "code",
      "execution_count": 56,
      "id": "09c07963-fd91-4180-8337-5ff20d9cf576",
      "metadata": {
        "colab": {
          "base_uri": "https://localhost:8080/"
        },
        "collapsed": true,
        "id": "09c07963-fd91-4180-8337-5ff20d9cf576",
        "outputId": "41214d84-f305-451f-c19a-4cd9910ddbd6"
      },
      "outputs": [
        {
          "output_type": "stream",
          "name": "stdout",
          "text": [
            "Epoch 1/100\n"
          ]
        },
        {
          "output_type": "stream",
          "name": "stderr",
          "text": [
            "/usr/local/lib/python3.10/dist-packages/keras/src/layers/rnn/rnn.py:204: UserWarning: Do not pass an `input_shape`/`input_dim` argument to a layer. When using Sequential models, prefer using an `Input(shape)` object as the first layer in the model instead.\n",
            "  super().__init__(**kwargs)\n"
          ]
        },
        {
          "output_type": "stream",
          "name": "stdout",
          "text": [
            "75/75 - 2s - 33ms/step - loss: 0.0150\n",
            "Epoch 2/100\n",
            "75/75 - 0s - 4ms/step - loss: 0.0047\n",
            "Epoch 3/100\n",
            "75/75 - 0s - 4ms/step - loss: 0.0043\n",
            "Epoch 4/100\n",
            "75/75 - 0s - 3ms/step - loss: 0.0042\n",
            "Epoch 5/100\n",
            "75/75 - 0s - 4ms/step - loss: 0.0040\n",
            "Epoch 6/100\n",
            "75/75 - 0s - 4ms/step - loss: 0.0037\n",
            "Epoch 7/100\n",
            "75/75 - 0s - 2ms/step - loss: 0.0034\n",
            "Epoch 8/100\n",
            "75/75 - 0s - 2ms/step - loss: 0.0033\n",
            "Epoch 9/100\n",
            "75/75 - 0s - 2ms/step - loss: 0.0030\n",
            "Epoch 10/100\n",
            "75/75 - 0s - 4ms/step - loss: 0.0028\n",
            "Epoch 11/100\n",
            "75/75 - 0s - 4ms/step - loss: 0.0026\n",
            "Epoch 12/100\n",
            "75/75 - 0s - 2ms/step - loss: 0.0025\n",
            "Epoch 13/100\n",
            "75/75 - 0s - 2ms/step - loss: 0.0022\n",
            "Epoch 14/100\n",
            "75/75 - 0s - 2ms/step - loss: 0.0022\n",
            "Epoch 15/100\n",
            "75/75 - 0s - 2ms/step - loss: 0.0020\n",
            "Epoch 16/100\n",
            "75/75 - 0s - 4ms/step - loss: 0.0018\n",
            "Epoch 17/100\n",
            "75/75 - 0s - 2ms/step - loss: 0.0018\n",
            "Epoch 18/100\n",
            "75/75 - 0s - 4ms/step - loss: 0.0016\n",
            "Epoch 19/100\n",
            "75/75 - 0s - 4ms/step - loss: 0.0015\n",
            "Epoch 20/100\n",
            "75/75 - 0s - 2ms/step - loss: 0.0014\n",
            "Epoch 21/100\n",
            "75/75 - 0s - 2ms/step - loss: 0.0013\n",
            "Epoch 22/100\n",
            "75/75 - 0s - 2ms/step - loss: 0.0012\n",
            "Epoch 23/100\n",
            "75/75 - 0s - 4ms/step - loss: 0.0011\n",
            "Epoch 24/100\n",
            "75/75 - 0s - 2ms/step - loss: 0.0011\n",
            "Epoch 25/100\n",
            "75/75 - 0s - 2ms/step - loss: 0.0011\n",
            "Epoch 26/100\n",
            "75/75 - 0s - 2ms/step - loss: 9.3220e-04\n",
            "Epoch 27/100\n",
            "75/75 - 0s - 2ms/step - loss: 9.6891e-04\n",
            "Epoch 28/100\n",
            "75/75 - 0s - 4ms/step - loss: 0.0010\n",
            "Epoch 29/100\n",
            "75/75 - 0s - 4ms/step - loss: 8.6206e-04\n",
            "Epoch 30/100\n",
            "75/75 - 0s - 2ms/step - loss: 8.9778e-04\n",
            "Epoch 31/100\n",
            "75/75 - 0s - 2ms/step - loss: 8.3465e-04\n",
            "Epoch 32/100\n",
            "75/75 - 0s - 4ms/step - loss: 7.9040e-04\n",
            "Epoch 33/100\n",
            "75/75 - 0s - 2ms/step - loss: 7.9378e-04\n",
            "Epoch 34/100\n",
            "75/75 - 0s - 2ms/step - loss: 7.5287e-04\n",
            "Epoch 35/100\n",
            "75/75 - 0s - 2ms/step - loss: 7.3851e-04\n",
            "Epoch 36/100\n",
            "75/75 - 0s - 4ms/step - loss: 8.6204e-04\n",
            "Epoch 37/100\n",
            "75/75 - 0s - 2ms/step - loss: 7.4284e-04\n",
            "Epoch 38/100\n",
            "75/75 - 0s - 2ms/step - loss: 7.0110e-04\n",
            "Epoch 39/100\n",
            "75/75 - 0s - 2ms/step - loss: 7.2816e-04\n",
            "Epoch 40/100\n",
            "75/75 - 0s - 2ms/step - loss: 8.0274e-04\n",
            "Epoch 41/100\n",
            "75/75 - 0s - 4ms/step - loss: 6.5561e-04\n",
            "Epoch 42/100\n",
            "75/75 - 0s - 2ms/step - loss: 6.9469e-04\n",
            "Epoch 43/100\n",
            "75/75 - 0s - 2ms/step - loss: 6.4905e-04\n",
            "Epoch 44/100\n",
            "75/75 - 0s - 2ms/step - loss: 6.4052e-04\n",
            "Epoch 45/100\n",
            "75/75 - 0s - 2ms/step - loss: 6.4090e-04\n",
            "Epoch 46/100\n",
            "75/75 - 0s - 4ms/step - loss: 6.4666e-04\n",
            "Epoch 47/100\n",
            "75/75 - 0s - 2ms/step - loss: 6.0146e-04\n",
            "Epoch 48/100\n",
            "75/75 - 0s - 2ms/step - loss: 6.0750e-04\n",
            "Epoch 49/100\n",
            "75/75 - 0s - 2ms/step - loss: 6.2755e-04\n",
            "Epoch 50/100\n",
            "75/75 - 0s - 2ms/step - loss: 5.8921e-04\n",
            "Epoch 51/100\n",
            "75/75 - 0s - 4ms/step - loss: 6.3354e-04\n",
            "Epoch 52/100\n",
            "75/75 - 0s - 2ms/step - loss: 6.3883e-04\n",
            "Epoch 53/100\n",
            "75/75 - 0s - 2ms/step - loss: 5.9278e-04\n",
            "Epoch 54/100\n",
            "75/75 - 0s - 4ms/step - loss: 6.1828e-04\n",
            "Epoch 55/100\n",
            "75/75 - 0s - 2ms/step - loss: 5.4849e-04\n",
            "Epoch 56/100\n",
            "75/75 - 0s - 4ms/step - loss: 5.6463e-04\n",
            "Epoch 57/100\n",
            "75/75 - 0s - 5ms/step - loss: 5.9322e-04\n",
            "Epoch 58/100\n",
            "75/75 - 0s - 3ms/step - loss: 5.2656e-04\n",
            "Epoch 59/100\n",
            "75/75 - 0s - 3ms/step - loss: 5.8170e-04\n",
            "Epoch 60/100\n",
            "75/75 - 0s - 4ms/step - loss: 5.3499e-04\n",
            "Epoch 61/100\n",
            "75/75 - 0s - 3ms/step - loss: 5.2242e-04\n",
            "Epoch 62/100\n",
            "75/75 - 0s - 3ms/step - loss: 5.3235e-04\n",
            "Epoch 63/100\n",
            "75/75 - 0s - 4ms/step - loss: 5.4485e-04\n",
            "Epoch 64/100\n",
            "75/75 - 0s - 3ms/step - loss: 5.1650e-04\n",
            "Epoch 65/100\n",
            "75/75 - 0s - 4ms/step - loss: 5.2331e-04\n",
            "Epoch 66/100\n",
            "75/75 - 0s - 4ms/step - loss: 5.4014e-04\n",
            "Epoch 67/100\n",
            "75/75 - 0s - 2ms/step - loss: 5.4469e-04\n",
            "Epoch 68/100\n",
            "75/75 - 0s - 2ms/step - loss: 5.6290e-04\n",
            "Epoch 69/100\n",
            "75/75 - 0s - 2ms/step - loss: 5.1985e-04\n",
            "Epoch 70/100\n",
            "75/75 - 0s - 2ms/step - loss: 4.8937e-04\n",
            "Epoch 71/100\n",
            "75/75 - 0s - 2ms/step - loss: 5.2846e-04\n",
            "Epoch 72/100\n",
            "75/75 - 0s - 2ms/step - loss: 5.3680e-04\n",
            "Epoch 73/100\n",
            "75/75 - 0s - 2ms/step - loss: 5.2251e-04\n",
            "Epoch 74/100\n",
            "75/75 - 0s - 2ms/step - loss: 4.9655e-04\n",
            "Epoch 75/100\n",
            "75/75 - 0s - 2ms/step - loss: 4.9346e-04\n",
            "Epoch 76/100\n",
            "75/75 - 0s - 2ms/step - loss: 4.7863e-04\n",
            "Epoch 77/100\n",
            "75/75 - 0s - 4ms/step - loss: 5.1866e-04\n",
            "Epoch 78/100\n",
            "75/75 - 0s - 2ms/step - loss: 4.8273e-04\n",
            "Epoch 79/100\n",
            "75/75 - 0s - 4ms/step - loss: 4.8831e-04\n",
            "Epoch 80/100\n",
            "75/75 - 0s - 2ms/step - loss: 5.7204e-04\n",
            "Epoch 81/100\n",
            "75/75 - 0s - 2ms/step - loss: 5.6358e-04\n",
            "Epoch 82/100\n",
            "75/75 - 0s - 2ms/step - loss: 5.0772e-04\n",
            "Epoch 83/100\n",
            "75/75 - 0s - 2ms/step - loss: 4.5871e-04\n",
            "Epoch 84/100\n",
            "75/75 - 0s - 2ms/step - loss: 4.7501e-04\n",
            "Epoch 85/100\n",
            "75/75 - 0s - 4ms/step - loss: 4.5174e-04\n",
            "Epoch 86/100\n",
            "75/75 - 0s - 2ms/step - loss: 4.7172e-04\n",
            "Epoch 87/100\n",
            "75/75 - 0s - 2ms/step - loss: 4.2849e-04\n",
            "Epoch 88/100\n",
            "75/75 - 0s - 4ms/step - loss: 4.7614e-04\n",
            "Epoch 89/100\n",
            "75/75 - 0s - 2ms/step - loss: 4.9460e-04\n",
            "Epoch 90/100\n",
            "75/75 - 0s - 4ms/step - loss: 4.4930e-04\n",
            "Epoch 91/100\n",
            "75/75 - 0s - 2ms/step - loss: 5.1912e-04\n",
            "Epoch 92/100\n",
            "75/75 - 0s - 2ms/step - loss: 4.6788e-04\n",
            "Epoch 93/100\n",
            "75/75 - 0s - 4ms/step - loss: 4.4279e-04\n",
            "Epoch 94/100\n",
            "75/75 - 0s - 2ms/step - loss: 4.4447e-04\n",
            "Epoch 95/100\n",
            "75/75 - 0s - 4ms/step - loss: 4.3882e-04\n",
            "Epoch 96/100\n",
            "75/75 - 0s - 2ms/step - loss: 4.5624e-04\n",
            "Epoch 97/100\n",
            "75/75 - 0s - 2ms/step - loss: 4.5969e-04\n",
            "Epoch 98/100\n",
            "75/75 - 0s - 4ms/step - loss: 4.3380e-04\n",
            "Epoch 99/100\n",
            "75/75 - 0s - 2ms/step - loss: 4.4131e-04\n",
            "Epoch 100/100\n",
            "75/75 - 0s - 4ms/step - loss: 4.1637e-04\n"
          ]
        },
        {
          "output_type": "execute_result",
          "data": {
            "text/plain": [
              "<keras.src.callbacks.history.History at 0x7b54dcdee5f0>"
            ]
          },
          "metadata": {},
          "execution_count": 56
        }
      ],
      "source": [
        "# create and fit the LSTM network\n",
        "model = Sequential()\n",
        "model.add(LSTM(4, input_shape=(1, look_back)))\n",
        "model.add(Dense(1))\n",
        "model.compile(loss='mean_squared_error', optimizer='adam')\n",
        "model.fit(trainX, trainY, epochs=100, batch_size=1, verbose=2)"
      ]
    },
    {
      "cell_type": "code",
      "execution_count": 57,
      "id": "c54b871f-8f10-4bf3-b8ec-9d374d696508",
      "metadata": {
        "colab": {
          "base_uri": "https://localhost:8080/"
        },
        "id": "c54b871f-8f10-4bf3-b8ec-9d374d696508",
        "outputId": "36d62571-fc13-4625-d37b-8f48b5be6f97"
      },
      "outputs": [
        {
          "output_type": "stream",
          "name": "stdout",
          "text": [
            "\u001b[1m3/3\u001b[0m \u001b[32m━━━━━━━━━━━━━━━━━━━━\u001b[0m\u001b[37m\u001b[0m \u001b[1m0s\u001b[0m 83ms/step\n",
            "\u001b[1m1/1\u001b[0m \u001b[32m━━━━━━━━━━━━━━━━━━━━\u001b[0m\u001b[37m\u001b[0m \u001b[1m0s\u001b[0m 21ms/step\n"
          ]
        }
      ],
      "source": [
        "# make predictions\n",
        "trainPredict = model.predict(trainX)\n",
        "testPredict = model.predict(testX)"
      ]
    },
    {
      "cell_type": "code",
      "source": [
        "# invert predictions\n",
        "trainPredict = scaler.inverse_transform(trainPredict)\n",
        "trainY = scaler.inverse_transform([trainY])\n",
        "testPredict = scaler.inverse_transform(testPredict)\n",
        "testY = scaler.inverse_transform([testY])"
      ],
      "metadata": {
        "id": "Yyhd1ckhVjMn"
      },
      "id": "Yyhd1ckhVjMn",
      "execution_count": 58,
      "outputs": []
    },
    {
      "cell_type": "code",
      "source": [
        "# calculate root mean squared error\n",
        "trainScore = math.sqrt(mean_squared_error(trainY[0], trainPredict[:,0]))\n",
        "print('Train Score: %.2f RMSE' % (trainScore))\n",
        "testScore = math.sqrt(mean_squared_error(testY[0], testPredict[:,0]))\n",
        "print('Test Score: %.2f RMSE' % (testScore))"
      ],
      "metadata": {
        "colab": {
          "base_uri": "https://localhost:8080/"
        },
        "id": "dDYL3m7uVjAq",
        "outputId": "703089d9-5701-4352-fab0-093e86311ce0"
      },
      "id": "dDYL3m7uVjAq",
      "execution_count": 59,
      "outputs": [
        {
          "output_type": "stream",
          "name": "stdout",
          "text": [
            "Train Score: 10.09 RMSE\n",
            "Test Score: 25.91 RMSE\n"
          ]
        }
      ]
    },
    {
      "cell_type": "code",
      "execution_count": 60,
      "id": "e50928f5-b417-438f-a23b-edaa6317aa6a",
      "metadata": {
        "id": "e50928f5-b417-438f-a23b-edaa6317aa6a"
      },
      "outputs": [],
      "source": [
        "# shift train predictions for plotting\n",
        "trainPredictPlot = numpy.empty_like(dataset)\n",
        "trainPredictPlot[:, :] = numpy.nan\n",
        "trainPredictPlot[look_back:len(trainPredict)+look_back, :] = trainPredict"
      ]
    },
    {
      "cell_type": "code",
      "source": [
        "# shift test predictions for plotting\n",
        "testPredictPlot = numpy.empty_like(dataset)\n",
        "testPredictPlot[:, :] = numpy.nan\n",
        "testPredictPlot[len(trainPredict)+(look_back*2)+1:len(dataset)-1, :] = testPredict"
      ],
      "metadata": {
        "id": "IpZmI18RVpAg"
      },
      "id": "IpZmI18RVpAg",
      "execution_count": 61,
      "outputs": []
    },
    {
      "cell_type": "code",
      "execution_count": 62,
      "id": "d5ec68e2-8d8a-4843-85ba-39fbb513243d",
      "metadata": {
        "colab": {
          "base_uri": "https://localhost:8080/",
          "height": 430
        },
        "id": "d5ec68e2-8d8a-4843-85ba-39fbb513243d",
        "outputId": "db5e58ea-0fe2-4b30-f723-15b83d751de3"
      },
      "outputs": [
        {
          "output_type": "display_data",
          "data": {
            "text/plain": [
              "<Figure size 640x480 with 1 Axes>"
            ],
            "image/png": "[encoded data removed]"
          },
          "metadata": {}
        }
      ],
      "source": [
        "# plot baseline and predictions\n",
        "plt.plot(scaler.inverse_transform(dataset))\n",
        "plt.plot(trainPredictPlot)\n",
        "plt.plot(testPredictPlot)\n",
        "plt.show()"
      ]
    }
  ],
  "metadata": {
    "kernelspec": {
      "display_name": "Python 3 (ipykernel)",
      "language": "python",
      "name": "python3"
    },
    "language_info": {
      "codemirror_mode": {
        "name": "ipython",
        "version": 3
      },
      "file_extension": ".py",
      "mimetype": "text/x-python",
      "name": "python",
      "nbconvert_exporter": "python",
      "pygments_lexer": "ipython3",
      "version": "3.9.9"
    },
    "colab": {
      "provenance": [],
      "include_colab_link": true
    }
  },
  "nbformat": 4,
  "nbformat_minor": 5
}